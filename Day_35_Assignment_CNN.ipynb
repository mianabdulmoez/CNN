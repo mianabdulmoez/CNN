{
 "cells": [
  {
   "cell_type": "markdown",
   "metadata": {},
   "source": [
    "## Day_35 : Assignment - CNN"
   ]
  },
  {
   "cell_type": "markdown",
   "metadata": {},
   "source": [
    "* Loading Images Dataset and Resizing in 100x100"
   ]
  },
  {
   "cell_type": "code",
   "execution_count": 29,
   "metadata": {},
   "outputs": [
    {
     "data": {
      "image/png": "[encoded data removed]",
      "text/plain": [
       "<Figure size 1000x500 with 10 Axes>"
      ]
     },
     "metadata": {},
     "output_type": "display_data"
    },
    {
     "name": "stdout",
     "output_type": "stream",
     "text": [
      "Epoch 1/5\n",
      "1/1 [==============================] - 4s 4s/step - loss: 21.9170 - accuracy: 0.0000e+00 - val_loss: 232.5612 - val_accuracy: 0.0000e+00\n",
      "Epoch 2/5\n",
      "1/1 [==============================] - 0s 354ms/step - loss: 14.2846 - accuracy: 0.2000 - val_loss: 367.9955 - val_accuracy: 0.0000e+00\n",
      "Epoch 3/5\n",
      "1/1 [==============================] - 0s 328ms/step - loss: 45.1560 - accuracy: 0.2000 - val_loss: 377.3262 - val_accuracy: 0.0000e+00\n",
      "Epoch 4/5\n",
      "1/1 [==============================] - 0s 294ms/step - loss: 76.0580 - accuracy: 0.4000 - val_loss: 245.1318 - val_accuracy: 0.0000e+00\n",
      "Epoch 5/5\n",
      "1/1 [==============================] - 0s 334ms/step - loss: 67.2303 - accuracy: 0.2000 - val_loss: 127.8982 - val_accuracy: 0.0000e+00\n",
      "1/1 [==============================] - 0s 62ms/step - loss: 127.7078 - accuracy: 0.0000e+00\n",
      "Test loss: 127.7077865600586\n",
      "Test accuracy: 0.0\n"
     ]
    }
   ],
   "source": [
    "import matplotlib.pyplot as plt\n",
    "from tensorflow.keras.preprocessing.image import load_img, img_to_array\n",
    "from sklearn.model_selection import train_test_split\n",
    "import tensorflow as tf\n",
    "import numpy as np\n",
    "\n",
    "# Load images\n",
    "photos = []\n",
    "for i in range(10):\n",
    "    img_path = \"{}{}.png\".format(\"Numbers_data/\", i)\n",
    "    img = load_img(img_path, target_size=(100, 100), color_mode=\"grayscale\") \n",
    "    img_array = img_to_array(img)\n",
    "    photos.append(img_array)\n",
    "    \n",
    "photos = np.asarray(photos)\n",
    "\n",
    "# Visualize\n",
    "plt.figure(figsize=(10, 5))\n",
    "for i in range(10):\n",
    "    plt.subplot(2, 5, i+1) \n",
    "    plt.imshow(photos[i].reshape(100, 100), cmap='gray')\n",
    "    plt.xlabel(f\"Image {i}\")\n",
    "plt.show()\n",
    "\n",
    "# Create dataset\n",
    "X_train = photos[:7]\n",
    "X_test = photos[7:] \n",
    "\n",
    "y_train = np.arange(7)\n",
    "y_test = np.arange(7, 10)\n",
    "\n",
    "# Split into train, val\n",
    "X_train, X_val, y_train, y_val = train_test_split(X_train, y_train, test_size=0.2, random_state=42)\n",
    "\n",
    "# Input layer\n",
    "input_layer = tf.keras.layers.Input(shape=(100, 100, 1))\n",
    "\n",
    "# CNN model \n",
    "model = tf.keras.Sequential([\n",
    "  input_layer,\n",
    "  tf.keras.layers.Conv2D(32, (3,3), activation='relu'),\n",
    "  tf.keras.layers.Conv2D(32, (3,3), activation='relu'),\n",
    "  tf.keras.layers.MaxPooling2D(),\n",
    "   \n",
    "  tf.keras.layers.Conv2D(64, (3,3), activation='relu'),\n",
    "  tf.keras.layers.Conv2D(64, (3,3), activation='relu'),\n",
    "  tf.keras.layers.MaxPooling2D(),\n",
    "   \n",
    "  tf.keras.layers.Flatten(),\n",
    "  tf.keras.layers.Dense(10, activation='softmax')\n",
    "])\n",
    "\n",
    "# Compile and train\n",
    "model.compile(optimizer='adam', \n",
    "              loss='sparse_categorical_crossentropy',\n",
    "              metrics=['accuracy'])\n",
    "\n",
    "model.fit(X_train, y_train, \n",
    "          epochs=5, \n",
    "          batch_size=X_train.shape[0],\n",
    "          validation_data=(X_val, y_val))\n",
    "\n",
    "# Evaluate \n",
    "test_loss, test_acc = model.evaluate(X_test, y_test)\n",
    "print(f\"Test loss: {test_loss}\")\n",
    "print(f\"Test accuracy: {test_acc}\") \n",
    "\n"
   ]
  },
  {
   "cell_type": "code",
   "execution_count": 30,
   "metadata": {},
   "outputs": [
    {
     "name": "stdout",
     "output_type": "stream",
     "text": [
      "(100, 100, 1)\n",
      "(100, 100, 1)\n",
      "1/1 [==============================] - 0s 196ms/step\n",
      "[[0.0000000e+00 0.0000000e+00 1.6054645e-12 2.6066235e-26 3.1691400e-25\n",
      "  2.7831879e-24 1.0000000e+00 0.0000000e+00 0.0000000e+00 0.0000000e+00]]\n"
     ]
    }
   ],
   "source": [
    "# grab an image\n",
    "img = X_test[0]\n",
    "print(img.shape)\n",
    "\n",
    "# rehape the image to (100, 100, 1)\n",
    "img = img.reshape((100, 100, 1))\n",
    "print(img.shape)\n",
    "\n",
    "# predict the image\n",
    "predictions = model.predict(img.reshape(1, 100, 100, 1))\n",
    "print(predictions)\n",
    "\n",
    "# Save the model to be used later\n",
    "model.save('models_saved/my_model.h5')"
   ]
  },
  {
   "cell_type": "code",
   "execution_count": 31,
   "metadata": {},
   "outputs": [
    {
     "data": {
      "image/png": "[encoded data removed]",
      "text/plain": [
       "<Figure size 640x480 with 1 Axes>"
      ]
     },
     "metadata": {},
     "output_type": "display_data"
    }
   ],
   "source": [
    "plt.imshow(img, cmap=\"gray\")\n",
    "plt.xticks([])\n",
    "plt.yticks([])\n",
    "plt.grid(False)\n",
    "plt.show()"
   ]
  },
  {
   "cell_type": "code",
   "execution_count": 32,
   "metadata": {},
   "outputs": [
    {
     "name": "stdout",
     "output_type": "stream",
     "text": [
      "[0.]\n"
     ]
    }
   ],
   "source": [
    "print(predictions[:,7])"
   ]
  },
  {
   "cell_type": "code",
   "execution_count": 33,
   "metadata": {},
   "outputs": [
    {
     "name": "stdout",
     "output_type": "stream",
     "text": [
      "The model predicts that this image is a 6.\n"
     ]
    }
   ],
   "source": [
    "print(f\"The model predicts that this image is a {predictions.argmax()}.\")"
   ]
  },
  {
   "cell_type": "markdown",
   "metadata": {},
   "source": [
    "--------------------------------"
   ]
  },
  {
   "cell_type": "code",
   "execution_count": 34,
   "metadata": {},
   "outputs": [
    {
     "name": "stdout",
     "output_type": "stream",
     "text": [
      "We have 5 images in the training set and 3 images in the test set.\n",
      "The size of the images is (100, 100, 1).\n"
     ]
    }
   ],
   "source": [
    "# explore the data\n",
    "print(f\"We have {len(X_train)} images in the training set and {len(X_test)} images in the test set.\")\n",
    "print(f\"The size of the images is {X_train[0].shape}.\")"
   ]
  },
  {
   "cell_type": "code",
   "execution_count": 35,
   "metadata": {},
   "outputs": [
    {
     "data": {
      "text/plain": [
       "<matplotlib.image.AxesImage at 0x28f4f7d6800>"
      ]
     },
     "execution_count": 35,
     "metadata": {},
     "output_type": "execute_result"
    },
    {
     "data": {
      "image/png": "[encoded data removed]",
      "text/plain": [
       "<Figure size 640x480 with 1 Axes>"
      ]
     },
     "metadata": {},
     "output_type": "display_data"
    }
   ],
   "source": [
    "import matplotlib.pyplot as plt\n",
    "plt.imshow(X_train[0], cmap=plt.cm.binary)"
   ]
  },
  {
   "cell_type": "code",
   "execution_count": 36,
   "metadata": {},
   "outputs": [
    {
     "name": "stdout",
     "output_type": "stream",
     "text": [
      "Model: \"sequential_14\"\n",
      "_________________________________________________________________\n",
      " Layer (type)                Output Shape              Param #   \n",
      "=================================================================\n",
      " conv2d_56 (Conv2D)          (None, 98, 98, 32)        320       \n",
      "                                                                 \n",
      " conv2d_57 (Conv2D)          (None, 96, 96, 32)        9248      \n",
      "                                                                 \n",
      " max_pooling2d_28 (MaxPooli  (None, 48, 48, 32)        0         \n",
      " ng2D)                                                           \n",
      "                                                                 \n",
      " conv2d_58 (Conv2D)          (None, 46, 46, 64)        18496     \n",
      "                                                                 \n",
      " conv2d_59 (Conv2D)          (None, 44, 44, 64)        36928     \n",
      "                                                                 \n",
      " max_pooling2d_29 (MaxPooli  (None, 22, 22, 64)        0         \n",
      " ng2D)                                                           \n",
      "                                                                 \n",
      " flatten_14 (Flatten)        (None, 30976)             0         \n",
      "                                                                 \n",
      " dense_14 (Dense)            (None, 10)                309770    \n",
      "                                                                 \n",
      "=================================================================\n",
      "Total params: 374762 (1.43 MB)\n",
      "Trainable params: 374762 (1.43 MB)\n",
      "Non-trainable params: 0 (0.00 Byte)\n",
      "_________________________________________________________________\n"
     ]
    }
   ],
   "source": [
    "model.summary()"
   ]
  }
 ],
 "metadata": {
  "kernelspec": {
   "display_name": "tf_env",
   "language": "python",
   "name": "python3"
  },
  "language_info": {
   "codemirror_mode": {
    "name": "ipython",
    "version": 3
   },
   "file_extension": ".py",
   "mimetype": "text/x-python",
   "name": "python",
   "nbconvert_exporter": "python",
   "pygments_lexer": "ipython3",
   "version": "3.10.12"
  },
  "orig_nbformat": 4
 },
 "nbformat": 4,
 "nbformat_minor": 2
}
